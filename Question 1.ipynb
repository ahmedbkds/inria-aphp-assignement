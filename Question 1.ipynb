{
 "cells": [
  {
   "cell_type": "code",
   "execution_count": 1,
   "metadata": {},
   "outputs": [],
   "source": [
    "import pandas as pd\n",
    "from sqlalchemy import create_engine\n",
    "\n",
    "engine = create_engine('sqlite:///data.db', echo=False)\n",
    "con = engine.connect()\n",
    "df_patient = pd.read_sql('select * from patient', con=con)\n",
    "df_pcr = pd.read_sql('select * from test', con=con)\n",
    "con.close()"
   ]
  },
  {
   "cell_type": "code",
   "execution_count": 2,
   "metadata": {},
   "outputs": [],
   "source": [
    "# df.groupby('patient_id')"
   ]
  },
  {
   "cell_type": "markdown",
   "metadata": {},
   "source": [
    "# Vue générale sur les données patient et pcr :"
   ]
  },
  {
   "cell_type": "code",
   "execution_count": 3,
   "metadata": {},
   "outputs": [
    {
     "name": "stdout",
     "output_type": "stream",
     "text": [
      "<class 'pandas.core.frame.DataFrame'>\n",
      "RangeIndex: 20000 entries, 0 to 19999\n",
      "Data columns (total 12 columns):\n",
      " #   Column         Non-Null Count  Dtype  \n",
      "---  ------         --------------  -----  \n",
      " 0   patient_id     20000 non-null  int64  \n",
      " 1   given_name     19560 non-null  object \n",
      " 2   surname        19575 non-null  object \n",
      " 3   street_number  19618 non-null  float64\n",
      " 4   address_1      19204 non-null  object \n",
      " 5   suburb         19788 non-null  object \n",
      " 6   postcode       19801 non-null  object \n",
      " 7   state          18010 non-null  object \n",
      " 8   date_of_birth  17989 non-null  float64\n",
      " 9   age            16003 non-null  float64\n",
      " 10  phone_number   19081 non-null  object \n",
      " 11  address_2      7893 non-null   object \n",
      "dtypes: float64(3), int64(1), object(8)\n",
      "memory usage: 1.8+ MB\n"
     ]
    }
   ],
   "source": [
    "#informations données patient\n",
    "df_patient.info()"
   ]
  },
  {
   "cell_type": "code",
   "execution_count": 4,
   "metadata": {},
   "outputs": [
    {
     "name": "stdout",
     "output_type": "stream",
     "text": [
      "<class 'pandas.core.frame.DataFrame'>\n",
      "RangeIndex: 8800 entries, 0 to 8799\n",
      "Data columns (total 2 columns):\n",
      " #   Column      Non-Null Count  Dtype \n",
      "---  ------      --------------  ----- \n",
      " 0   patient_id  8800 non-null   int64 \n",
      " 1   pcr         8800 non-null   object\n",
      "dtypes: int64(1), object(1)\n",
      "memory usage: 137.6+ KB\n"
     ]
    }
   ],
   "source": [
    "#information données pcr\n",
    "df_pcr.info()"
   ]
  },
  {
   "cell_type": "code",
   "execution_count": 5,
   "metadata": {},
   "outputs": [
    {
     "data": {
      "text/html": [
       "<div>\n",
       "<style scoped>\n",
       "    .dataframe tbody tr th:only-of-type {\n",
       "        vertical-align: middle;\n",
       "    }\n",
       "\n",
       "    .dataframe tbody tr th {\n",
       "        vertical-align: top;\n",
       "    }\n",
       "\n",
       "    .dataframe thead th {\n",
       "        text-align: right;\n",
       "    }\n",
       "</style>\n",
       "<table border=\"1\" class=\"dataframe\">\n",
       "  <thead>\n",
       "    <tr style=\"text-align: right;\">\n",
       "      <th></th>\n",
       "      <th>patient_id</th>\n",
       "      <th>given_name</th>\n",
       "      <th>surname</th>\n",
       "      <th>street_number</th>\n",
       "      <th>address_1</th>\n",
       "      <th>suburb</th>\n",
       "      <th>postcode</th>\n",
       "      <th>state</th>\n",
       "      <th>date_of_birth</th>\n",
       "      <th>age</th>\n",
       "      <th>phone_number</th>\n",
       "      <th>address_2</th>\n",
       "    </tr>\n",
       "  </thead>\n",
       "  <tbody>\n",
       "    <tr>\n",
       "      <th>0</th>\n",
       "      <td>221958</td>\n",
       "      <td>matisse</td>\n",
       "      <td>clarke</td>\n",
       "      <td>13.0</td>\n",
       "      <td>rene street</td>\n",
       "      <td>ellenbrook</td>\n",
       "      <td>2527</td>\n",
       "      <td>wa</td>\n",
       "      <td>19710708.0</td>\n",
       "      <td>32.0</td>\n",
       "      <td>08 86018809</td>\n",
       "      <td>westella</td>\n",
       "    </tr>\n",
       "    <tr>\n",
       "      <th>1</th>\n",
       "      <td>771155</td>\n",
       "      <td>joshua</td>\n",
       "      <td>elrick</td>\n",
       "      <td>23.0</td>\n",
       "      <td>andrea place</td>\n",
       "      <td>east preston</td>\n",
       "      <td>2074</td>\n",
       "      <td>nsw</td>\n",
       "      <td>19120921.0</td>\n",
       "      <td>34.0</td>\n",
       "      <td>02 97793152</td>\n",
       "      <td>foxdown</td>\n",
       "    </tr>\n",
       "    <tr>\n",
       "      <th>2</th>\n",
       "      <td>231932</td>\n",
       "      <td>alice</td>\n",
       "      <td>conboy</td>\n",
       "      <td>35.0</td>\n",
       "      <td>mountain circuit</td>\n",
       "      <td>prospect</td>\n",
       "      <td>2305</td>\n",
       "      <td>nsw</td>\n",
       "      <td>19810905.0</td>\n",
       "      <td>22.0</td>\n",
       "      <td>02 20403934</td>\n",
       "      <td>None</td>\n",
       "    </tr>\n",
       "    <tr>\n",
       "      <th>3</th>\n",
       "      <td>465838</td>\n",
       "      <td>sienna</td>\n",
       "      <td>craswell</td>\n",
       "      <td>39.0</td>\n",
       "      <td>cumberlegeicrescent</td>\n",
       "      <td>henty</td>\n",
       "      <td>3620</td>\n",
       "      <td>wa</td>\n",
       "      <td>19840809.0</td>\n",
       "      <td>30.0</td>\n",
       "      <td>02 62832318</td>\n",
       "      <td>jodane</td>\n",
       "    </tr>\n",
       "    <tr>\n",
       "      <th>4</th>\n",
       "      <td>359178</td>\n",
       "      <td>joshua</td>\n",
       "      <td>bastiaans</td>\n",
       "      <td>144.0</td>\n",
       "      <td>lowrie street</td>\n",
       "      <td>campbell town</td>\n",
       "      <td>4051</td>\n",
       "      <td>nsw</td>\n",
       "      <td>19340430.0</td>\n",
       "      <td>31.0</td>\n",
       "      <td>03 69359594</td>\n",
       "      <td>None</td>\n",
       "    </tr>\n",
       "  </tbody>\n",
       "</table>\n",
       "</div>"
      ],
      "text/plain": [
       "   patient_id given_name    surname  street_number            address_1  \\\n",
       "0      221958    matisse     clarke           13.0          rene street   \n",
       "1      771155     joshua     elrick           23.0         andrea place   \n",
       "2      231932      alice     conboy           35.0     mountain circuit   \n",
       "3      465838     sienna   craswell           39.0  cumberlegeicrescent   \n",
       "4      359178     joshua  bastiaans          144.0        lowrie street   \n",
       "\n",
       "          suburb postcode state  date_of_birth   age phone_number address_2  \n",
       "0     ellenbrook     2527    wa     19710708.0  32.0  08 86018809  westella  \n",
       "1   east preston     2074   nsw     19120921.0  34.0  02 97793152   foxdown  \n",
       "2       prospect     2305   nsw     19810905.0  22.0  02 20403934      None  \n",
       "3          henty     3620    wa     19840809.0  30.0  02 62832318    jodane  \n",
       "4  campbell town     4051   nsw     19340430.0  31.0  03 69359594      None  "
      ]
     },
     "execution_count": 5,
     "metadata": {},
     "output_type": "execute_result"
    }
   ],
   "source": [
    "#top 5 rows\n",
    "df_patient.head()"
   ]
  },
  {
   "cell_type": "code",
   "execution_count": 6,
   "metadata": {},
   "outputs": [
    {
     "data": {
      "text/html": [
       "<div>\n",
       "<style scoped>\n",
       "    .dataframe tbody tr th:only-of-type {\n",
       "        vertical-align: middle;\n",
       "    }\n",
       "\n",
       "    .dataframe tbody tr th {\n",
       "        vertical-align: top;\n",
       "    }\n",
       "\n",
       "    .dataframe thead th {\n",
       "        text-align: right;\n",
       "    }\n",
       "</style>\n",
       "<table border=\"1\" class=\"dataframe\">\n",
       "  <thead>\n",
       "    <tr style=\"text-align: right;\">\n",
       "      <th></th>\n",
       "      <th>patient_id</th>\n",
       "      <th>given_name</th>\n",
       "      <th>surname</th>\n",
       "      <th>street_number</th>\n",
       "      <th>address_1</th>\n",
       "      <th>suburb</th>\n",
       "      <th>postcode</th>\n",
       "      <th>state</th>\n",
       "      <th>date_of_birth</th>\n",
       "      <th>age</th>\n",
       "      <th>phone_number</th>\n",
       "      <th>address_2</th>\n",
       "    </tr>\n",
       "  </thead>\n",
       "  <tbody>\n",
       "    <tr>\n",
       "      <th>19995</th>\n",
       "      <td>368617</td>\n",
       "      <td>abby</td>\n",
       "      <td>None</td>\n",
       "      <td>19.0</td>\n",
       "      <td>john cleland crescent</td>\n",
       "      <td>boyne island</td>\n",
       "      <td>2290</td>\n",
       "      <td>nsw</td>\n",
       "      <td>19570210.0</td>\n",
       "      <td>NaN</td>\n",
       "      <td>02 92489054</td>\n",
       "      <td>glenmore</td>\n",
       "    </tr>\n",
       "    <tr>\n",
       "      <th>19996</th>\n",
       "      <td>796658</td>\n",
       "      <td>dale</td>\n",
       "      <td>priest</td>\n",
       "      <td>19.0</td>\n",
       "      <td>bellchambers crescent</td>\n",
       "      <td>hoppers crossing</td>\n",
       "      <td>3033</td>\n",
       "      <td>wa</td>\n",
       "      <td>19590619.0</td>\n",
       "      <td>31.0</td>\n",
       "      <td>07 20549476</td>\n",
       "      <td>None</td>\n",
       "    </tr>\n",
       "    <tr>\n",
       "      <th>19997</th>\n",
       "      <td>511885</td>\n",
       "      <td>alessia</td>\n",
       "      <td>mawlai</td>\n",
       "      <td>4.0</td>\n",
       "      <td>miller street</td>\n",
       "      <td>smithfield</td>\n",
       "      <td>3616</td>\n",
       "      <td>tas</td>\n",
       "      <td>NaN</td>\n",
       "      <td>26.0</td>\n",
       "      <td>03 83466737</td>\n",
       "      <td>None</td>\n",
       "    </tr>\n",
       "    <tr>\n",
       "      <th>19998</th>\n",
       "      <td>985932</td>\n",
       "      <td>hannah</td>\n",
       "      <td>mason</td>\n",
       "      <td>1.0</td>\n",
       "      <td>halligan place</td>\n",
       "      <td>beaumaris</td>\n",
       "      <td>2443</td>\n",
       "      <td>wa</td>\n",
       "      <td>19140304.0</td>\n",
       "      <td>25.0</td>\n",
       "      <td>04 41125514</td>\n",
       "      <td>None</td>\n",
       "    </tr>\n",
       "    <tr>\n",
       "      <th>19999</th>\n",
       "      <td>925217</td>\n",
       "      <td>jack</td>\n",
       "      <td>mcveigh</td>\n",
       "      <td>5.0</td>\n",
       "      <td>alinda place</td>\n",
       "      <td>thornlands</td>\n",
       "      <td>4350</td>\n",
       "      <td>nsw</td>\n",
       "      <td>19230521.0</td>\n",
       "      <td>26.0</td>\n",
       "      <td>07 52535106</td>\n",
       "      <td>None</td>\n",
       "    </tr>\n",
       "  </tbody>\n",
       "</table>\n",
       "</div>"
      ],
      "text/plain": [
       "       patient_id given_name  surname  street_number              address_1  \\\n",
       "19995      368617       abby     None           19.0  john cleland crescent   \n",
       "19996      796658       dale   priest           19.0  bellchambers crescent   \n",
       "19997      511885    alessia   mawlai            4.0          miller street   \n",
       "19998      985932     hannah    mason            1.0         halligan place   \n",
       "19999      925217       jack  mcveigh            5.0           alinda place   \n",
       "\n",
       "                 suburb postcode state  date_of_birth   age phone_number  \\\n",
       "19995      boyne island     2290   nsw     19570210.0   NaN  02 92489054   \n",
       "19996  hoppers crossing     3033    wa     19590619.0  31.0  07 20549476   \n",
       "19997        smithfield     3616   tas            NaN  26.0  03 83466737   \n",
       "19998         beaumaris     2443    wa     19140304.0  25.0  04 41125514   \n",
       "19999        thornlands     4350   nsw     19230521.0  26.0  07 52535106   \n",
       "\n",
       "      address_2  \n",
       "19995  glenmore  \n",
       "19996      None  \n",
       "19997      None  \n",
       "19998      None  \n",
       "19999      None  "
      ]
     },
     "execution_count": 6,
     "metadata": {},
     "output_type": "execute_result"
    }
   ],
   "source": [
    "#bottom 5 rows\n",
    "df_patient.tail()"
   ]
  },
  {
   "cell_type": "code",
   "execution_count": 7,
   "metadata": {},
   "outputs": [
    {
     "name": "stdout",
     "output_type": "stream",
     "text": [
      "Il y a au total 20000 lignes et 12 colonnes dans les données Patient.\n",
      "\n",
      "Il y a au total 8800 lignes et 2 colonnes dans les données Tests PCR.\n"
     ]
    }
   ],
   "source": [
    "#Nombre de colonnes et lignes dans les deux dataframes\n",
    "\n",
    "print(f\"Il y a au total {len(df_patient)} lignes et {len(df_patient.columns)} colonnes dans les données Patient.\")\n",
    "\n",
    "print(\"\")\n",
    "\n",
    "print(f\"Il y a au total {len(df_pcr)} lignes et {len(df_pcr.columns)} colonnes dans les données Tests PCR.\")"
   ]
  },
  {
   "cell_type": "code",
   "execution_count": 8,
   "metadata": {},
   "outputs": [
    {
     "name": "stdout",
     "output_type": "stream",
     "text": [
      "Les colonnes de données patients sont ['patient_id', 'given_name', 'surname', 'street_number', 'address_1', 'suburb', 'postcode', 'state', 'date_of_birth', 'age', 'phone_number', 'address_2']\n",
      "\n",
      "Les colonnes de données test PCR sont ['patient_id', 'pcr']\n"
     ]
    }
   ],
   "source": [
    "#Les noms des colonnes\n",
    "\n",
    "print(f\"Les colonnes de données patients sont {list(df_patient.columns)}\")\n",
    "print(\"\")\n",
    "print(f\"Les colonnes de données test PCR sont {list(df_pcr.columns)}\")"
   ]
  },
  {
   "cell_type": "code",
   "execution_count": 9,
   "metadata": {},
   "outputs": [
    {
     "data": {
      "text/plain": [
       "(patient_id         int64\n",
       " given_name        object\n",
       " surname           object\n",
       " street_number    float64\n",
       " address_1         object\n",
       " suburb            object\n",
       " postcode          object\n",
       " state             object\n",
       " date_of_birth    float64\n",
       " age              float64\n",
       " phone_number      object\n",
       " address_2         object\n",
       " dtype: object,\n",
       " patient_id     int64\n",
       " pcr           object\n",
       " dtype: object)"
      ]
     },
     "execution_count": 9,
     "metadata": {},
     "output_type": "execute_result"
    }
   ],
   "source": [
    "#type des colonnes dans les données \n",
    "df_patient.dtypes , df_pcr.dtypes"
   ]
  },
  {
   "cell_type": "markdown",
   "metadata": {},
   "source": [
    "# 1. Données manquantes :"
   ]
  },
  {
   "cell_type": "code",
   "execution_count": 10,
   "metadata": {},
   "outputs": [
    {
     "data": {
      "text/plain": [
       "patient_id           0\n",
       "given_name         440\n",
       "surname            425\n",
       "street_number      382\n",
       "address_1          796\n",
       "suburb             212\n",
       "postcode           199\n",
       "state             1990\n",
       "date_of_birth     2011\n",
       "age               3997\n",
       "phone_number       919\n",
       "address_2        12107\n",
       "dtype: int64"
      ]
     },
     "execution_count": 10,
     "metadata": {},
     "output_type": "execute_result"
    }
   ],
   "source": [
    "# Nombre total des valeurs de données manquantes par colonne Patient\n",
    "missing_values_count = df_patient.isnull().sum()\n",
    "missing_values_count"
   ]
  },
  {
   "cell_type": "code",
   "execution_count": 11,
   "metadata": {},
   "outputs": [
    {
     "name": "stdout",
     "output_type": "stream",
     "text": [
      " \n",
      "Pourcentages des valeurs manquantes par colonne dans les données Patient: \n",
      "\n",
      " patient_id        0.000\n",
      "given_name        2.200\n",
      "surname           2.125\n",
      "street_number     1.910\n",
      "address_1         3.980\n",
      "suburb            1.060\n",
      "postcode          0.995\n",
      "state             9.950\n",
      "date_of_birth    10.055\n",
      "age              19.985\n",
      "phone_number      4.595\n",
      "address_2        60.535\n",
      "dtype: float64\n",
      " \n",
      "Nombre total des valeurs manquantes par colonne dans les données test PCR: \n",
      "\n",
      " patient_id    0\n",
      "pcr           0\n",
      "dtype: int64\n"
     ]
    }
   ],
   "source": [
    "print(\" \\nPourcentages des valeurs manquantes par colonne dans les données Patient: \\n\\n\", (df_patient.isnull().sum()/len(df_patient))*100)\n",
    "print(\" \\nNombre total des valeurs manquantes par colonne dans les données test PCR: \\n\\n\", df_pcr.isnull().sum()) "
   ]
  },
  {
   "cell_type": "code",
   "execution_count": 13,
   "metadata": {},
   "outputs": [
    {
     "data": {
      "text/plain": [
       "<AxesSubplot:>"
      ]
     },
     "execution_count": 13,
     "metadata": {},
     "output_type": "execute_result"
    },
    {
     "data": {
      "image/png": "[encoded data removed]",
      "text/plain": [
       "<Figure size 432x288 with 1 Axes>"
      ]
     },
     "metadata": {
      "needs_background": "light"
     },
     "output_type": "display_data"
    }
   ],
   "source": [
    "# Nombre total des valeurs de données manquantes par colonne \n",
    "patient_nulls = df_patient.apply(lambda x: x.isnull().value_counts()).T[True]\n",
    "patient_nulls.hist() \n",
    "# histogramme des valeurs manquantes\n",
    "patient_nulls.plot(kind = 'bar')"
   ]
  },
  {
   "cell_type": "markdown",
   "metadata": {},
   "source": [
    "# Analyse :"
   ]
  },
  {
   "cell_type": "code",
   "execution_count": 14,
   "metadata": {},
   "outputs": [],
   "source": [
    "#Nous pouvons remarquer d'après les pourcentages dans le tableau et aussi l'histogramme qu'il existe des donnees manquantes\n",
    "#adresse_2 manque dans presq 60% => la deuxième adresse n'est pas toujours déclarée et c'est logique!\n",
    "#age manque dans 20% & date_of_birth 10% => Gneralmnt l'age est toujours un bon feature dans les données de santé \n",
    "#patient_id 0% , primary key value"
   ]
  },
  {
   "cell_type": "markdown",
   "metadata": {},
   "source": [
    "# 2.Données incohérentes:"
   ]
  },
  {
   "cell_type": "markdown",
   "metadata": {},
   "source": [
    "# 2.1.Données Patient:"
   ]
  },
  {
   "cell_type": "code",
   "execution_count": 15,
   "metadata": {},
   "outputs": [
    {
     "data": {
      "text/html": [
       "<div>\n",
       "<style scoped>\n",
       "    .dataframe tbody tr th:only-of-type {\n",
       "        vertical-align: middle;\n",
       "    }\n",
       "\n",
       "    .dataframe tbody tr th {\n",
       "        vertical-align: top;\n",
       "    }\n",
       "\n",
       "    .dataframe thead th {\n",
       "        text-align: right;\n",
       "    }\n",
       "</style>\n",
       "<table border=\"1\" class=\"dataframe\">\n",
       "  <thead>\n",
       "    <tr style=\"text-align: right;\">\n",
       "      <th></th>\n",
       "      <th>patient_id</th>\n",
       "      <th>given_name</th>\n",
       "      <th>surname</th>\n",
       "      <th>street_number</th>\n",
       "      <th>address_1</th>\n",
       "      <th>suburb</th>\n",
       "      <th>postcode</th>\n",
       "      <th>state</th>\n",
       "      <th>date_of_birth</th>\n",
       "      <th>age</th>\n",
       "      <th>phone_number</th>\n",
       "      <th>address_2</th>\n",
       "    </tr>\n",
       "  </thead>\n",
       "  <tbody>\n",
       "    <tr>\n",
       "      <th>0</th>\n",
       "      <td>221958</td>\n",
       "      <td>matisse</td>\n",
       "      <td>clarke</td>\n",
       "      <td>13.0</td>\n",
       "      <td>rene street</td>\n",
       "      <td>ellenbrook</td>\n",
       "      <td>2527</td>\n",
       "      <td>wa</td>\n",
       "      <td>19710708.0</td>\n",
       "      <td>32.0</td>\n",
       "      <td>08 86018809</td>\n",
       "      <td>westella</td>\n",
       "    </tr>\n",
       "    <tr>\n",
       "      <th>1</th>\n",
       "      <td>771155</td>\n",
       "      <td>joshua</td>\n",
       "      <td>elrick</td>\n",
       "      <td>23.0</td>\n",
       "      <td>andrea place</td>\n",
       "      <td>east preston</td>\n",
       "      <td>2074</td>\n",
       "      <td>nsw</td>\n",
       "      <td>19120921.0</td>\n",
       "      <td>34.0</td>\n",
       "      <td>02 97793152</td>\n",
       "      <td>foxdown</td>\n",
       "    </tr>\n",
       "    <tr>\n",
       "      <th>3</th>\n",
       "      <td>465838</td>\n",
       "      <td>sienna</td>\n",
       "      <td>craswell</td>\n",
       "      <td>39.0</td>\n",
       "      <td>cumberlegeicrescent</td>\n",
       "      <td>henty</td>\n",
       "      <td>3620</td>\n",
       "      <td>wa</td>\n",
       "      <td>19840809.0</td>\n",
       "      <td>30.0</td>\n",
       "      <td>02 62832318</td>\n",
       "      <td>jodane</td>\n",
       "    </tr>\n",
       "    <tr>\n",
       "      <th>7</th>\n",
       "      <td>832180</td>\n",
       "      <td>jack</td>\n",
       "      <td>renfrey</td>\n",
       "      <td>27.0</td>\n",
       "      <td>osmand street</td>\n",
       "      <td>maribyrnong</td>\n",
       "      <td>2170</td>\n",
       "      <td>qld</td>\n",
       "      <td>19610518.0</td>\n",
       "      <td>31.0</td>\n",
       "      <td>03 15575583</td>\n",
       "      <td>dhurringill</td>\n",
       "    </tr>\n",
       "    <tr>\n",
       "      <th>20</th>\n",
       "      <td>421879</td>\n",
       "      <td>callum</td>\n",
       "      <td>nicolle</td>\n",
       "      <td>2.0</td>\n",
       "      <td>mcleod place</td>\n",
       "      <td>walgett</td>\n",
       "      <td>2144</td>\n",
       "      <td>nsw</td>\n",
       "      <td>19340319.0</td>\n",
       "      <td>25.0</td>\n",
       "      <td>03 79802023</td>\n",
       "      <td>marella</td>\n",
       "    </tr>\n",
       "    <tr>\n",
       "      <th>...</th>\n",
       "      <td>...</td>\n",
       "      <td>...</td>\n",
       "      <td>...</td>\n",
       "      <td>...</td>\n",
       "      <td>...</td>\n",
       "      <td>...</td>\n",
       "      <td>...</td>\n",
       "      <td>...</td>\n",
       "      <td>...</td>\n",
       "      <td>...</td>\n",
       "      <td>...</td>\n",
       "      <td>...</td>\n",
       "    </tr>\n",
       "    <tr>\n",
       "      <th>19976</th>\n",
       "      <td>513727</td>\n",
       "      <td>kane</td>\n",
       "      <td>costigan</td>\n",
       "      <td>1.0</td>\n",
       "      <td>stonehaven crescent</td>\n",
       "      <td>shenton park</td>\n",
       "      <td>2203</td>\n",
       "      <td>nsw</td>\n",
       "      <td>19100707.0</td>\n",
       "      <td>22.0</td>\n",
       "      <td>04 55808760</td>\n",
       "      <td>townview</td>\n",
       "    </tr>\n",
       "    <tr>\n",
       "      <th>19979</th>\n",
       "      <td>116167</td>\n",
       "      <td>thomas</td>\n",
       "      <td>matthews</td>\n",
       "      <td>6.0</td>\n",
       "      <td>biddlecombe street</td>\n",
       "      <td>unanderra</td>\n",
       "      <td>4740</td>\n",
       "      <td>nsw</td>\n",
       "      <td>19200108.0</td>\n",
       "      <td>32.0</td>\n",
       "      <td>03 95817460</td>\n",
       "      <td>brentwood vlge</td>\n",
       "    </tr>\n",
       "    <tr>\n",
       "      <th>19983</th>\n",
       "      <td>230775</td>\n",
       "      <td>victoria</td>\n",
       "      <td>whiteley</td>\n",
       "      <td>12.0</td>\n",
       "      <td>beasley street</td>\n",
       "      <td>landsborough</td>\n",
       "      <td>2388</td>\n",
       "      <td>nsw</td>\n",
       "      <td>19491217.0</td>\n",
       "      <td>30.0</td>\n",
       "      <td>03 68108604</td>\n",
       "      <td>ponderosa</td>\n",
       "    </tr>\n",
       "    <tr>\n",
       "      <th>19985</th>\n",
       "      <td>407822</td>\n",
       "      <td>sarah</td>\n",
       "      <td>matthews</td>\n",
       "      <td>58.0</td>\n",
       "      <td>zox circuit</td>\n",
       "      <td>seven hills</td>\n",
       "      <td>3174</td>\n",
       "      <td>nsw</td>\n",
       "      <td>19241001.0</td>\n",
       "      <td>25.0</td>\n",
       "      <td>08 77093884</td>\n",
       "      <td>lagoon farm</td>\n",
       "    </tr>\n",
       "    <tr>\n",
       "      <th>19986</th>\n",
       "      <td>326406</td>\n",
       "      <td>kiara</td>\n",
       "      <td>cheel</td>\n",
       "      <td>89.0</td>\n",
       "      <td>shand place</td>\n",
       "      <td>kincumber</td>\n",
       "      <td>2535</td>\n",
       "      <td>nsw</td>\n",
       "      <td>19870709.0</td>\n",
       "      <td>24.0</td>\n",
       "      <td>02 90785400</td>\n",
       "      <td>wiltona</td>\n",
       "    </tr>\n",
       "  </tbody>\n",
       "</table>\n",
       "<p>4267 rows × 12 columns</p>\n",
       "</div>"
      ],
      "text/plain": [
       "       patient_id given_name   surname  street_number            address_1  \\\n",
       "0          221958    matisse    clarke           13.0          rene street   \n",
       "1          771155     joshua    elrick           23.0         andrea place   \n",
       "3          465838     sienna  craswell           39.0  cumberlegeicrescent   \n",
       "7          832180       jack   renfrey           27.0        osmand street   \n",
       "20         421879     callum   nicolle            2.0         mcleod place   \n",
       "...           ...        ...       ...            ...                  ...   \n",
       "19976      513727       kane  costigan            1.0  stonehaven crescent   \n",
       "19979      116167     thomas  matthews            6.0   biddlecombe street   \n",
       "19983      230775   victoria  whiteley           12.0       beasley street   \n",
       "19985      407822      sarah  matthews           58.0          zox circuit   \n",
       "19986      326406      kiara     cheel           89.0          shand place   \n",
       "\n",
       "             suburb postcode state  date_of_birth   age phone_number  \\\n",
       "0        ellenbrook     2527    wa     19710708.0  32.0  08 86018809   \n",
       "1      east preston     2074   nsw     19120921.0  34.0  02 97793152   \n",
       "3             henty     3620    wa     19840809.0  30.0  02 62832318   \n",
       "7       maribyrnong     2170   qld     19610518.0  31.0  03 15575583   \n",
       "20          walgett     2144   nsw     19340319.0  25.0  03 79802023   \n",
       "...             ...      ...   ...            ...   ...          ...   \n",
       "19976  shenton park     2203   nsw     19100707.0  22.0  04 55808760   \n",
       "19979     unanderra     4740   nsw     19200108.0  32.0  03 95817460   \n",
       "19983  landsborough     2388   nsw     19491217.0  30.0  03 68108604   \n",
       "19985   seven hills     3174   nsw     19241001.0  25.0  08 77093884   \n",
       "19986     kincumber     2535   nsw     19870709.0  24.0  02 90785400   \n",
       "\n",
       "            address_2  \n",
       "0            westella  \n",
       "1             foxdown  \n",
       "3              jodane  \n",
       "7         dhurringill  \n",
       "20            marella  \n",
       "...               ...  \n",
       "19976        townview  \n",
       "19979  brentwood vlge  \n",
       "19983       ponderosa  \n",
       "19985     lagoon farm  \n",
       "19986         wiltona  \n",
       "\n",
       "[4267 rows x 12 columns]"
      ]
     },
     "execution_count": 15,
     "metadata": {},
     "output_type": "execute_result"
    }
   ],
   "source": [
    "#nous allons garder les données non null\n",
    "pat_nonnull=df_patient.dropna()\n",
    "pat_nonnull"
   ]
  },
  {
   "cell_type": "code",
   "execution_count": 23,
   "metadata": {},
   "outputs": [
    {
     "name": "stdout",
     "output_type": "stream",
     "text": [
      " \n",
      "Pourcentage des doublants par colonne patient_id : 1%\n",
      "\n",
      "\n"
     ]
    }
   ],
   "source": [
    "#vérification de duplication dans 'patient_id' colonne\n",
    "patient_id=df_patient.groupby('patient_id')\n",
    "occ=0\n",
    "for name,group in patient_id:\n",
    "    if len(group)!=1:\n",
    "        occ+=1\n",
    "print(f\" \\nPourcentage des doublants par colonne patient_id : {int((occ/len(patient_id))*100)}%\\n\\n\") "
   ]
  },
  {
   "cell_type": "code",
   "execution_count": null,
   "metadata": {},
   "outputs": [],
   "source": [
    "#Commentaires:\n",
    "#Les données dupliquées ne sont pas identiques\n",
    "#=> Dans certains cas , le meme patient_id est utilisé dans plusieurs lignes\n",
    "#=> Cela est due à l'incohérence dans les données (valeurs Nan et NONE) comme typos, information manquante.."
   ]
  },
  {
   "cell_type": "code",
   "execution_count": 94,
   "metadata": {},
   "outputs": [
    {
     "data": {
      "text/plain": [
       "array(['act', 'ai', 'ndw', 'nfsw', 'nfw', 'ns', 'nsa', 'nsc', 'nsd',\n",
       "       'nsew', 'nsgs', 'nsjh', 'nsn', 'nss', 'nssw', 'nsw', 'nsxw', 'nt',\n",
       "       'qld', 'qle', 'qlr', 'qls', 'qod', 'sa', 'ta', 'tab', 'tas',\n",
       "       'vcci', 'vic', 'vie', 'vif', 'vq', 'wa'], dtype=object)"
      ]
     },
     "execution_count": 94,
     "metadata": {},
     "output_type": "execute_result"
    }
   ],
   "source": [
    "# valeurs uniques de la colonne 'states'\n",
    "states = pat_nonnull['state'].unique()\n",
    "states.sort()\n",
    "states"
   ]
  },
  {
   "cell_type": "code",
   "execution_count": 96,
   "metadata": {},
   "outputs": [
    {
     "data": {
      "text/plain": [
       "Index(['patient_id', 'given_name', 'surname', 'street_number', 'address_1',\n",
       "       'suburb', 'postcode', 'state', 'date_of_birth', 'age', 'phone_number',\n",
       "       'address_2'],\n",
       "      dtype='object')"
      ]
     },
     "execution_count": 96,
     "metadata": {},
     "output_type": "execute_result"
    }
   ],
   "source": [
    "df_patient.columns"
   ]
  },
  {
   "cell_type": "code",
   "execution_count": 99,
   "metadata": {},
   "outputs": [
    {
     "data": {
      "text/html": [
       "<div>\n",
       "<style scoped>\n",
       "    .dataframe tbody tr th:only-of-type {\n",
       "        vertical-align: middle;\n",
       "    }\n",
       "\n",
       "    .dataframe tbody tr th {\n",
       "        vertical-align: top;\n",
       "    }\n",
       "\n",
       "    .dataframe thead th {\n",
       "        text-align: right;\n",
       "    }\n",
       "</style>\n",
       "<table border=\"1\" class=\"dataframe\">\n",
       "  <thead>\n",
       "    <tr style=\"text-align: right;\">\n",
       "      <th></th>\n",
       "      <th>date_of_birth</th>\n",
       "      <th>age</th>\n",
       "    </tr>\n",
       "  </thead>\n",
       "  <tbody>\n",
       "    <tr>\n",
       "      <th>0</th>\n",
       "      <td>19710708.0</td>\n",
       "      <td>32.0</td>\n",
       "    </tr>\n",
       "    <tr>\n",
       "      <th>1</th>\n",
       "      <td>19120921.0</td>\n",
       "      <td>34.0</td>\n",
       "    </tr>\n",
       "    <tr>\n",
       "      <th>2</th>\n",
       "      <td>19810905.0</td>\n",
       "      <td>22.0</td>\n",
       "    </tr>\n",
       "    <tr>\n",
       "      <th>3</th>\n",
       "      <td>19840809.0</td>\n",
       "      <td>30.0</td>\n",
       "    </tr>\n",
       "    <tr>\n",
       "      <th>4</th>\n",
       "      <td>19340430.0</td>\n",
       "      <td>31.0</td>\n",
       "    </tr>\n",
       "    <tr>\n",
       "      <th>...</th>\n",
       "      <td>...</td>\n",
       "      <td>...</td>\n",
       "    </tr>\n",
       "    <tr>\n",
       "      <th>19992</th>\n",
       "      <td>19720229.0</td>\n",
       "      <td>25.0</td>\n",
       "    </tr>\n",
       "    <tr>\n",
       "      <th>19993</th>\n",
       "      <td>19211111.0</td>\n",
       "      <td>34.0</td>\n",
       "    </tr>\n",
       "    <tr>\n",
       "      <th>19996</th>\n",
       "      <td>19590619.0</td>\n",
       "      <td>31.0</td>\n",
       "    </tr>\n",
       "    <tr>\n",
       "      <th>19998</th>\n",
       "      <td>19140304.0</td>\n",
       "      <td>25.0</td>\n",
       "    </tr>\n",
       "    <tr>\n",
       "      <th>19999</th>\n",
       "      <td>19230521.0</td>\n",
       "      <td>26.0</td>\n",
       "    </tr>\n",
       "  </tbody>\n",
       "</table>\n",
       "<p>14391 rows × 2 columns</p>\n",
       "</div>"
      ],
      "text/plain": [
       "       date_of_birth   age\n",
       "0         19710708.0  32.0\n",
       "1         19120921.0  34.0\n",
       "2         19810905.0  22.0\n",
       "3         19840809.0  30.0\n",
       "4         19340430.0  31.0\n",
       "...              ...   ...\n",
       "19992     19720229.0  25.0\n",
       "19993     19211111.0  34.0\n",
       "19996     19590619.0  31.0\n",
       "19998     19140304.0  25.0\n",
       "19999     19230521.0  26.0\n",
       "\n",
       "[14391 rows x 2 columns]"
      ]
     },
     "execution_count": 99,
     "metadata": {},
     "output_type": "execute_result"
    }
   ],
   "source": [
    "# vérification de la cohérence entre les colonnes 'date_of_birth' and 'age'\n",
    "df_age=df_patient[['date_of_birth', 'age']]\n",
    "df_age=df_age.dropna()\n",
    "df_age"
   ]
  },
  {
   "cell_type": "code",
   "execution_count": 110,
   "metadata": {},
   "outputs": [],
   "source": [
    "#date : année/mois/jours\n",
    "#fonction de calcul d'age à partir de date de naissance\n",
    "from datetime import date\n",
    "def calculer_age(born):\n",
    "    year=int(born//10000)\n",
    "    today = date.today()\n",
    "    return float(today.year - year)"
   ]
  },
  {
   "cell_type": "code",
   "execution_count": 111,
   "metadata": {},
   "outputs": [
    {
     "data": {
      "text/html": [
       "<div>\n",
       "<style scoped>\n",
       "    .dataframe tbody tr th:only-of-type {\n",
       "        vertical-align: middle;\n",
       "    }\n",
       "\n",
       "    .dataframe tbody tr th {\n",
       "        vertical-align: top;\n",
       "    }\n",
       "\n",
       "    .dataframe thead th {\n",
       "        text-align: right;\n",
       "    }\n",
       "</style>\n",
       "<table border=\"1\" class=\"dataframe\">\n",
       "  <thead>\n",
       "    <tr style=\"text-align: right;\">\n",
       "      <th></th>\n",
       "      <th>date_of_birth</th>\n",
       "      <th>age</th>\n",
       "      <th>age_real</th>\n",
       "    </tr>\n",
       "  </thead>\n",
       "  <tbody>\n",
       "    <tr>\n",
       "      <th>0</th>\n",
       "      <td>19710708.0</td>\n",
       "      <td>32.0</td>\n",
       "      <td>49.0</td>\n",
       "    </tr>\n",
       "    <tr>\n",
       "      <th>1</th>\n",
       "      <td>19120921.0</td>\n",
       "      <td>34.0</td>\n",
       "      <td>108.0</td>\n",
       "    </tr>\n",
       "    <tr>\n",
       "      <th>2</th>\n",
       "      <td>19810905.0</td>\n",
       "      <td>22.0</td>\n",
       "      <td>39.0</td>\n",
       "    </tr>\n",
       "    <tr>\n",
       "      <th>3</th>\n",
       "      <td>19840809.0</td>\n",
       "      <td>30.0</td>\n",
       "      <td>36.0</td>\n",
       "    </tr>\n",
       "    <tr>\n",
       "      <th>4</th>\n",
       "      <td>19340430.0</td>\n",
       "      <td>31.0</td>\n",
       "      <td>86.0</td>\n",
       "    </tr>\n",
       "    <tr>\n",
       "      <th>...</th>\n",
       "      <td>...</td>\n",
       "      <td>...</td>\n",
       "      <td>...</td>\n",
       "    </tr>\n",
       "    <tr>\n",
       "      <th>19992</th>\n",
       "      <td>19720229.0</td>\n",
       "      <td>25.0</td>\n",
       "      <td>48.0</td>\n",
       "    </tr>\n",
       "    <tr>\n",
       "      <th>19993</th>\n",
       "      <td>19211111.0</td>\n",
       "      <td>34.0</td>\n",
       "      <td>99.0</td>\n",
       "    </tr>\n",
       "    <tr>\n",
       "      <th>19996</th>\n",
       "      <td>19590619.0</td>\n",
       "      <td>31.0</td>\n",
       "      <td>61.0</td>\n",
       "    </tr>\n",
       "    <tr>\n",
       "      <th>19998</th>\n",
       "      <td>19140304.0</td>\n",
       "      <td>25.0</td>\n",
       "      <td>106.0</td>\n",
       "    </tr>\n",
       "    <tr>\n",
       "      <th>19999</th>\n",
       "      <td>19230521.0</td>\n",
       "      <td>26.0</td>\n",
       "      <td>97.0</td>\n",
       "    </tr>\n",
       "  </tbody>\n",
       "</table>\n",
       "<p>14391 rows × 3 columns</p>\n",
       "</div>"
      ],
      "text/plain": [
       "       date_of_birth   age  age_real\n",
       "0         19710708.0  32.0      49.0\n",
       "1         19120921.0  34.0     108.0\n",
       "2         19810905.0  22.0      39.0\n",
       "3         19840809.0  30.0      36.0\n",
       "4         19340430.0  31.0      86.0\n",
       "...              ...   ...       ...\n",
       "19992     19720229.0  25.0      48.0\n",
       "19993     19211111.0  34.0      99.0\n",
       "19996     19590619.0  31.0      61.0\n",
       "19998     19140304.0  25.0     106.0\n",
       "19999     19230521.0  26.0      97.0\n",
       "\n",
       "[14391 rows x 3 columns]"
      ]
     },
     "execution_count": 111,
     "metadata": {},
     "output_type": "execute_result"
    }
   ],
   "source": [
    "df_age['Age_date_of_birth'] = df_age.apply(lambda x: calculer_age(x['date_of_birth']), axis=1)\n",
    "df_age"
   ]
  },
  {
   "cell_type": "code",
   "execution_count": 115,
   "metadata": {},
   "outputs": [
    {
     "data": {
      "text/html": [
       "<div>\n",
       "<style scoped>\n",
       "    .dataframe tbody tr th:only-of-type {\n",
       "        vertical-align: middle;\n",
       "    }\n",
       "\n",
       "    .dataframe tbody tr th {\n",
       "        vertical-align: top;\n",
       "    }\n",
       "\n",
       "    .dataframe thead th {\n",
       "        text-align: right;\n",
       "    }\n",
       "</style>\n",
       "<table border=\"1\" class=\"dataframe\">\n",
       "  <thead>\n",
       "    <tr style=\"text-align: right;\">\n",
       "      <th></th>\n",
       "      <th>date_of_birth</th>\n",
       "      <th>age</th>\n",
       "      <th>age_real</th>\n",
       "    </tr>\n",
       "  </thead>\n",
       "  <tbody>\n",
       "    <tr>\n",
       "      <th>0</th>\n",
       "      <td>19710708.0</td>\n",
       "      <td>32.0</td>\n",
       "      <td>49.0</td>\n",
       "    </tr>\n",
       "    <tr>\n",
       "      <th>1</th>\n",
       "      <td>19120921.0</td>\n",
       "      <td>34.0</td>\n",
       "      <td>108.0</td>\n",
       "    </tr>\n",
       "    <tr>\n",
       "      <th>2</th>\n",
       "      <td>19810905.0</td>\n",
       "      <td>22.0</td>\n",
       "      <td>39.0</td>\n",
       "    </tr>\n",
       "    <tr>\n",
       "      <th>3</th>\n",
       "      <td>19840809.0</td>\n",
       "      <td>30.0</td>\n",
       "      <td>36.0</td>\n",
       "    </tr>\n",
       "    <tr>\n",
       "      <th>4</th>\n",
       "      <td>19340430.0</td>\n",
       "      <td>31.0</td>\n",
       "      <td>86.0</td>\n",
       "    </tr>\n",
       "    <tr>\n",
       "      <th>...</th>\n",
       "      <td>...</td>\n",
       "      <td>...</td>\n",
       "      <td>...</td>\n",
       "    </tr>\n",
       "    <tr>\n",
       "      <th>19992</th>\n",
       "      <td>19720229.0</td>\n",
       "      <td>25.0</td>\n",
       "      <td>48.0</td>\n",
       "    </tr>\n",
       "    <tr>\n",
       "      <th>19993</th>\n",
       "      <td>19211111.0</td>\n",
       "      <td>34.0</td>\n",
       "      <td>99.0</td>\n",
       "    </tr>\n",
       "    <tr>\n",
       "      <th>19996</th>\n",
       "      <td>19590619.0</td>\n",
       "      <td>31.0</td>\n",
       "      <td>61.0</td>\n",
       "    </tr>\n",
       "    <tr>\n",
       "      <th>19998</th>\n",
       "      <td>19140304.0</td>\n",
       "      <td>25.0</td>\n",
       "      <td>106.0</td>\n",
       "    </tr>\n",
       "    <tr>\n",
       "      <th>19999</th>\n",
       "      <td>19230521.0</td>\n",
       "      <td>26.0</td>\n",
       "      <td>97.0</td>\n",
       "    </tr>\n",
       "  </tbody>\n",
       "</table>\n",
       "<p>14285 rows × 3 columns</p>\n",
       "</div>"
      ],
      "text/plain": [
       "       date_of_birth   age  age_real\n",
       "0         19710708.0  32.0      49.0\n",
       "1         19120921.0  34.0     108.0\n",
       "2         19810905.0  22.0      39.0\n",
       "3         19840809.0  30.0      36.0\n",
       "4         19340430.0  31.0      86.0\n",
       "...              ...   ...       ...\n",
       "19992     19720229.0  25.0      48.0\n",
       "19993     19211111.0  34.0      99.0\n",
       "19996     19590619.0  31.0      61.0\n",
       "19998     19140304.0  25.0     106.0\n",
       "19999     19230521.0  26.0      97.0\n",
       "\n",
       "[14285 rows x 3 columns]"
      ]
     },
     "execution_count": 115,
     "metadata": {},
     "output_type": "execute_result"
    }
   ],
   "source": [
    "#vérifier si les deux ages sont differents\n",
    "check = df_age[df_age.age != df_age.age_real]\n",
    "check"
   ]
  },
  {
   "cell_type": "code",
   "execution_count": 118,
   "metadata": {},
   "outputs": [
    {
     "name": "stdout",
     "output_type": "stream",
     "text": [
      " \n",
      "Pourcentages différence entre ages calculés de date de naissance et age : \n",
      "\n",
      " 99.2634285317212\n"
     ]
    }
   ],
   "source": [
    "print(\" \\nPourcentage de non égalité entre Ages calculés de date de naissance et age dans les données : \\n\\n\", (len(check)/len(df_age))*100)"
   ]
  },
  {
   "cell_type": "code",
   "execution_count": 119,
   "metadata": {},
   "outputs": [],
   "source": [
    "#Commentaires :\n",
    "#faut vérifier lequel des deux age nous allons utilser dans la suite de processus data science !!"
   ]
  },
  {
   "cell_type": "code",
   "execution_count": 120,
   "metadata": {},
   "outputs": [
    {
     "data": {
      "text/html": [
       "<div>\n",
       "<style scoped>\n",
       "    .dataframe tbody tr th:only-of-type {\n",
       "        vertical-align: middle;\n",
       "    }\n",
       "\n",
       "    .dataframe tbody tr th {\n",
       "        vertical-align: top;\n",
       "    }\n",
       "\n",
       "    .dataframe thead th {\n",
       "        text-align: right;\n",
       "    }\n",
       "</style>\n",
       "<table border=\"1\" class=\"dataframe\">\n",
       "  <thead>\n",
       "    <tr style=\"text-align: right;\">\n",
       "      <th></th>\n",
       "      <th>phone_number</th>\n",
       "    </tr>\n",
       "  </thead>\n",
       "  <tbody>\n",
       "    <tr>\n",
       "      <th>0</th>\n",
       "      <td>08 86018809</td>\n",
       "    </tr>\n",
       "    <tr>\n",
       "      <th>1</th>\n",
       "      <td>02 97793152</td>\n",
       "    </tr>\n",
       "    <tr>\n",
       "      <th>2</th>\n",
       "      <td>02 20403934</td>\n",
       "    </tr>\n",
       "    <tr>\n",
       "      <th>3</th>\n",
       "      <td>02 62832318</td>\n",
       "    </tr>\n",
       "    <tr>\n",
       "      <th>4</th>\n",
       "      <td>03 69359594</td>\n",
       "    </tr>\n",
       "    <tr>\n",
       "      <th>...</th>\n",
       "      <td>...</td>\n",
       "    </tr>\n",
       "    <tr>\n",
       "      <th>19995</th>\n",
       "      <td>02 92489054</td>\n",
       "    </tr>\n",
       "    <tr>\n",
       "      <th>19996</th>\n",
       "      <td>07 20549476</td>\n",
       "    </tr>\n",
       "    <tr>\n",
       "      <th>19997</th>\n",
       "      <td>03 83466737</td>\n",
       "    </tr>\n",
       "    <tr>\n",
       "      <th>19998</th>\n",
       "      <td>04 41125514</td>\n",
       "    </tr>\n",
       "    <tr>\n",
       "      <th>19999</th>\n",
       "      <td>07 52535106</td>\n",
       "    </tr>\n",
       "  </tbody>\n",
       "</table>\n",
       "<p>19081 rows × 1 columns</p>\n",
       "</div>"
      ],
      "text/plain": [
       "      phone_number\n",
       "0      08 86018809\n",
       "1      02 97793152\n",
       "2      02 20403934\n",
       "3      02 62832318\n",
       "4      03 69359594\n",
       "...            ...\n",
       "19995  02 92489054\n",
       "19996  07 20549476\n",
       "19997  03 83466737\n",
       "19998  04 41125514\n",
       "19999  07 52535106\n",
       "\n",
       "[19081 rows x 1 columns]"
      ]
     },
     "execution_count": 120,
     "metadata": {},
     "output_type": "execute_result"
    }
   ],
   "source": [
    "#verification de nombre de chiffre dans le numéro phone\n",
    "df_number=df_patient[['phone_number']]\n",
    "df_number=df_number.dropna()\n",
    "df_number"
   ]
  },
  {
   "cell_type": "code",
   "execution_count": 125,
   "metadata": {},
   "outputs": [
    {
     "data": {
      "text/plain": [
       "11    19081\n",
       "Name: phone_length, dtype: int64"
      ]
     },
     "execution_count": 125,
     "metadata": {},
     "output_type": "execute_result"
    }
   ],
   "source": [
    "#vérifier le nombre de chiffres dans le numéro\n",
    "df_number['phone_length'] = df_number.apply(lambda x: len(str(x['phone_number'])), axis=1)\n",
    "df_number['phone_length'].value_counts()"
   ]
  },
  {
   "cell_type": "markdown",
   "metadata": {},
   "source": [
    "# Analyse:"
   ]
  },
  {
   "cell_type": "code",
   "execution_count": null,
   "metadata": {},
   "outputs": [],
   "source": [
    "#Il existe une incohérence entre les colonnes \"dat_of_birth\" et \"age\""
   ]
  },
  {
   "cell_type": "markdown",
   "metadata": {},
   "source": [
    "# 2.2.Données Test PCR"
   ]
  },
  {
   "cell_type": "code",
   "execution_count": 127,
   "metadata": {},
   "outputs": [
    {
     "data": {
      "text/plain": [
       "N           3482\n",
       "Negative    3134\n",
       "Positive    1283\n",
       "P            901\n",
       "Name: pcr, dtype: int64"
      ]
     },
     "execution_count": 127,
     "metadata": {},
     "output_type": "execute_result"
    }
   ],
   "source": [
    "df_pcr['pcr'].value_counts()"
   ]
  },
  {
   "cell_type": "markdown",
   "metadata": {},
   "source": [
    "# Analyse:"
   ]
  },
  {
   "cell_type": "code",
   "execution_count": 131,
   "metadata": {},
   "outputs": [],
   "source": [
    "#Il existe deux formats de representation pour chaque label 'test positif' ou 'test négatif'\n",
    "#N=Negative\n",
    "#P=Positive\n",
    "#une simple transformation sur la colonne 'pcr' suffit pour généralisr les labels"
   ]
  },
  {
   "cell_type": "code",
   "execution_count": null,
   "metadata": {},
   "outputs": [],
   "source": []
  }
 ],
 "metadata": {
  "kernelspec": {
   "display_name": "Python 3",
   "language": "python",
   "name": "python3"
  },
  "language_info": {
   "codemirror_mode": {
    "name": "ipython",
    "version": 3
   },
   "file_extension": ".py",
   "mimetype": "text/x-python",
   "name": "python",
   "nbconvert_exporter": "python",
   "pygments_lexer": "ipython3",
   "version": "3.7.6"
  }
 },
 "nbformat": 4,
 "nbformat_minor": 4
}
